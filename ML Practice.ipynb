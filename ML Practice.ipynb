{
 "cells": [
  {
   "cell_type": "code",
   "execution_count": null,
   "metadata": {
    "application/vnd.databricks.v1+cell": {
     "cellMetadata": {
      "byteLimit": 2048000,
      "rowLimit": 10000
     },
     "inputWidgets": {},
     "nuid": "e83f718b-256c-4b9f-a781-5f28cd2d8671",
     "showTitle": false,
     "title": ""
    }
   },
   "outputs": [],
   "source": [
    "from pyspark.sql import SparkSession\n",
    "from pyspark.ml.feature import StringIndexer, OneHotEncoder, VectorAssembler\n",
    "from pyspark.ml import Pipeline\n",
    "from pyspark.ml.classification import LogisticRegression, RandomForestClassifier, DecisionTreeClassifier, GBTClassifier\n",
    "from pyspark.ml.evaluation import BinaryClassificationEvaluator\n",
    "from pyspark.ml.tuning import ParamGridBuilder, CrossValidator\n",
    "from pyspark.sql.functions import col\n",
    "import pickle\n",
    "from pyspark.mllib.evaluation import *"
   ]
  },
  {
   "cell_type": "code",
   "execution_count": null,
   "metadata": {},
   "outputs": [],
   "source": [
    "sparks = sparksSession.builder.appName(\"LoanProcessing\").getOrCreate()"
   ]
  },
  {
   "cell_type": "code",
   "execution_count": null,
   "metadata": {
    "application/vnd.databricks.v1+cell": {
     "cellMetadata": {
      "byteLimit": 2048000,
      "rowLimit": 10000
     },
     "inputWidgets": {},
     "nuid": "ee2ca513-b2bb-4731-b720-aee0f5ba0a73",
     "showTitle": false,
     "title": ""
    }
   },
   "outputs": [],
   "source": [
    "# Load your loan_process_df into a PySpark DataFrame\n",
    "loan_process_df = spark.read.csv(\"merged.csv\",header=True, inferSchema=True)"
   ]
  },
  {
   "cell_type": "code",
   "execution_count": null,
   "metadata": {
    "application/vnd.databricks.v1+cell": {
     "cellMetadata": {
      "byteLimit": 2048000,
      "rowLimit": 10000
     },
     "inputWidgets": {},
     "nuid": "a56bc91b-a29f-4d48-875a-c01a401c008c",
     "showTitle": false,
     "title": ""
    }
   },
   "outputs": [],
   "source": [
    "loan_process_df=loan_process_df.dropna()"
   ]
  },
  {
   "cell_type": "code",
   "execution_count": null,
   "metadata": {
    "application/vnd.databricks.v1+cell": {
     "cellMetadata": {
      "byteLimit": 2048000,
      "rowLimit": 10000
     },
     "inputWidgets": {},
     "nuid": "898a048d-0292-4582-b0dc-7457a1d7c5af",
     "showTitle": false,
     "title": ""
    }
   },
   "outputs": [
    {
     "name": "stdout",
     "output_type": "stream",
     "text": [
      "+------------------------+-----------------+---------------------+----------------+---------------------+----------------------------+--------------------------+-----------------------+------------------------+----------------------+-------------------------+--------------------+-----------------------+--------------------+----------------------+--------------------------+-----------------+----------------------+-------------------------+-------------------------+----------+----------------------+---------------+----------------+-------------------+----------------+---------------+-------------------+-------------------+--------------------+-----------------------+----------------------+---------------------+------------------------------+---------------------+-------------------+-------------------+-------------------+------------------------+-------------------------------+------------------------------+---------------------------+------------------------------+------------------------------+-------------------------------+--------------------------+--------------------------+---------------------------+---------------------+----------------------------+----------------------------+----------------------------+----------------------------+--------------------------+-------------------+------------------------------+-----------------------------+------------------------------+-----------------------------+-----------------------------+------------------------------+--------------------+--------------------+-------------+-------------------+\n",
      "|NAME_CONTRACT_TYPE_prevd|AMT_ANNUITY_prevd|AMT_APPLICATION_prevd|AMT_CREDIT_prevd|AMT_GOODS_PRICE_prevd|NAME_CASH_LOAN_PURPOSE_prevd|NAME_CONTRACT_STATUS_prevd|NAME_PAYMENT_TYPE_prevd|CODE_REJECT_REASON_prevd|NAME_CLIENT_TYPE_prevd|NAME_GOODS_CATEGORY_prevd|NAME_PORTFOLIO_prevd|NAME_PRODUCT_TYPE_prevd|  CHANNEL_TYPE_prevd|SELLERPLACE_AREA_prevd|NAME_SELLER_INDUSTRY_prevd|CNT_PAYMENT_prevd|NAME_YIELD_GROUP_prevd|PRODUCT_COMBINATION_prevd|DAYS_DECISION_GROUP_prevd|TARGET_apd|NAME_CONTRACT_TYPE_apd|CODE_GENDER_apd|FLAG_OWN_CAR_apd|FLAG_OWN_REALTY_apd|CNT_CHILDREN_apd|AMT_ANNUITY_apd|AMT_GOODS_PRICE_apd|NAME_TYPE_SUITE_apd|NAME_INCOME_TYPE_apd|NAME_EDUCATION_TYPE_apd|NAME_FAMILY_STATUS_apd|NAME_HOUSING_TYPE_apd|REGION_POPULATION_RELATIVE_apd|DAYS_REGISTRATION_apd|DAYS_ID_PUBLISH_apd|OCCUPATION_TYPE_apd|CNT_FAM_MEMBERS_apd|REGION_RATING_CLIENT_apd|REGION_RATING_CLIENT_W_CITY_apd|WEEKDAY_APPR_PROCESS_START_apd|HOUR_APPR_PROCESS_START_apd|REG_REGION_NOT_LIVE_REGION_apd|REG_REGION_NOT_WORK_REGION_apd|LIVE_REGION_NOT_WORK_REGION_apd|REG_CITY_NOT_LIVE_CITY_apd|REG_CITY_NOT_WORK_CITY_apd|LIVE_CITY_NOT_WORK_CITY_apd|ORGANIZATION_TYPE_apd|OBS_30_CNT_SOCIAL_CIRCLE_apd|DEF_30_CNT_SOCIAL_CIRCLE_apd|OBS_60_CNT_SOCIAL_CIRCLE_apd|DEF_60_CNT_SOCIAL_CIRCLE_apd|DAYS_LAST_PHONE_CHANGE_apd|FLAG_DOCUMENT_3_apd|AMT_REQ_CREDIT_BUREAU_HOUR_apd|AMT_REQ_CREDIT_BUREAU_DAY_apd|AMT_REQ_CREDIT_BUREAU_WEEK_apd|AMT_REQ_CREDIT_BUREAU_MON_apd|AMT_REQ_CREDIT_BUREAU_QRT_apd|AMT_REQ_CREDIT_BUREAU_YEAR_apd|AMT_INCOME_RANGE_apd|AMT_CREDIT_RANGE_apd|AGE_GROUP_apd|EMPLOYMENT_YEAR_apd|\n",
      "+------------------------+-----------------+---------------------+----------------+---------------------+----------------------------+--------------------------+-----------------------+------------------------+----------------------+-------------------------+--------------------+-----------------------+--------------------+----------------------+--------------------------+-----------------+----------------------+-------------------------+-------------------------+----------+----------------------+---------------+----------------+-------------------+----------------+---------------+-------------------+-------------------+--------------------+-----------------------+----------------------+---------------------+------------------------------+---------------------+-------------------+-------------------+-------------------+------------------------+-------------------------------+------------------------------+---------------------------+------------------------------+------------------------------+-------------------------------+--------------------------+--------------------------+---------------------------+---------------------+----------------------------+----------------------------+----------------------------+----------------------------+--------------------------+-------------------+------------------------------+-----------------------------+------------------------------+-----------------------------+-----------------------------+------------------------------+--------------------+--------------------+-------------+-------------------+\n",
      "|              Cash loans|        98356.995|             900000.0|       1035882.0|             900000.0|                         XNA|                  Approved|                    XNA|                     XAP|              Repeater|                      XNA|                Cash|                 x-sell|Credit and cash o...|                    -1|                       XNA|             12.0|            low_normal|         Cash X-Sell: low|                  400-800|         0|            Cash loans|              F|               N|                  N|               0|        35698.5|          1129500.0|             Family|       State servant|       Higher education|               Married|    House / apartment|          0.003540999999999999|               1186.0|                291|         Core staff|                2.0|                       1|                              1|                        MONDAY|                         11|                             0|                             0|                              0|                         0|                         0|                          0|               School|                         1.0|                         0.0|                         1.0|                         0.0|                    -828.0|                  1|                           0.0|                          0.0|                           0.0|                          0.0|                          0.0|                           0.0|                 2.0|                10.0|        40-50|                0-5|\n",
      "|          Consumer loans|        64567.665|             337500.0|        348637.5|             337500.0|                         XAP|                  Approved|   Cash through the ...|                     XAP|             Refreshed|                Furniture|                 POS|                    XNA|               Stone|                  1400|                 Furniture|              6.0|                middle|     POS industry with...|                 800-1200|         0|            Cash loans|              F|               N|                  N|               0|        35698.5|          1129500.0|             Family|       State servant|       Higher education|               Married|    House / apartment|          0.003540999999999999|               1186.0|                291|         Core staff|                2.0|                       1|                              1|                        MONDAY|                         11|                             0|                             0|                              0|                         0|                         0|                          0|               School|                         1.0|                         0.0|                         1.0|                         0.0|                    -828.0|                  1|                           0.0|                          0.0|                           0.0|                          0.0|                          0.0|                           0.0|                 2.0|                10.0|        40-50|                0-5|\n",
      "|          Consumer loans|          6737.31|              68809.5|         68053.5|              68809.5|                         XAP|                  Approved|   Cash through the ...|                     XAP|             Refreshed|     Consumer Electronics|                 POS|                    XNA|        Country-wide|                   200|      Consumer electronics|             12.0|                middle|     POS household wit...|                2000-2400|         0|            Cash loans|              F|               N|                  N|               0|        35698.5|          1129500.0|             Family|       State servant|       Higher education|               Married|    House / apartment|          0.003540999999999999|               1186.0|                291|         Core staff|                2.0|                       1|                              1|                        MONDAY|                         11|                             0|                             0|                              0|                         0|                         0|                          0|               School|                         1.0|                         0.0|                         1.0|                         0.0|                    -828.0|                  1|                           0.0|                          0.0|                           0.0|                          0.0|                          0.0|                           0.0|                 2.0|                10.0|        40-50|                0-5|\n",
      "|              Cash loans|          16509.6|             180000.0|        180000.0|             180000.0|                         XNA|                  Approved|   Cash through the ...|                     XAP|              Repeater|                      XNA|                Cash|                walk-in|    Regional / Local|                  1200|      Consumer electronics|             18.0|                  high|        Cash Street: high|                 800-1200|         0|            Cash loans|              M|               N|                  Y|               0|        21865.5|           513000.0|      Unaccompanied|             Working|   Secondary / secon...|  Single / not married|    House / apartment|                      0.028663|               4311.0|               3458|         Core staff|                1.0|                       2|                              2|                      THURSDAY|                         11|                             0|                             0|                              0|                         0|                         1|                          1|             Religion|                         0.0|                         0.0|                         0.0|                         0.0|                   -1106.0|                  0|                           0.0|                          0.0|                           0.0|                          0.0|                          0.0|                           0.0|                 1.0|                 5.0|     50 above|               5-10|\n",
      "|              Cash loans|        13010.985|             225000.0|        284400.0|             225000.0|                         XNA|                  Approved|   Cash through the ...|                     XAP|              Repeater|                      XNA|                Cash|                 x-sell|     AP+ (Cash loan)|                     4|                       XNA|             48.0|                middle|      Cash X-Sell: middle|                 800-1200|         0|            Cash loans|              M|               N|                  Y|               0|        21865.5|           513000.0|      Unaccompanied|             Working|   Secondary / secon...|  Single / not married|    House / apartment|                      0.028663|               4311.0|               3458|         Core staff|                1.0|                       2|                              2|                      THURSDAY|                         11|                             0|                             0|                              0|                         0|                         1|                          1|             Religion|                         0.0|                         0.0|                         0.0|                         0.0|                   -1106.0|                  0|                           0.0|                          0.0|                           0.0|                          0.0|                          0.0|                           0.0|                 1.0|                 5.0|     50 above|               5-10|\n",
      "|              Cash loans|         16037.64|             247500.0|        274288.5|             247500.0|                         XNA|                  Approved|   Cash through the ...|                     XAP|              Repeater|                      XNA|                Cash|                 x-sell|Credit and cash o...|                    -1|                       XNA|             24.0|                middle|      Cash X-Sell: middle|                    0-400|         0|            Cash loans|              M|               N|                  Y|               0|        21865.5|           513000.0|      Unaccompanied|             Working|   Secondary / secon...|  Single / not married|    House / apartment|                      0.028663|               4311.0|               3458|         Core staff|                1.0|                       2|                              2|                      THURSDAY|                         11|                             0|                             0|                              0|                         0|                         1|                          1|             Religion|                         0.0|                         0.0|                         0.0|                         0.0|                   -1106.0|                  0|                           0.0|                          0.0|                           0.0|                          0.0|                          0.0|                           0.0|                 1.0|                 5.0|     50 above|               5-10|\n",
      "|          Consumer loans|          1834.29|              17176.5|         14616.0|              17176.5|                         XAP|                  Approved|   Cash through the ...|                     XAP|                   New|              Audio/Video|                 POS|                    XNA|        Country-wide|                  1200|      Consumer electronics|             10.0|                  high|     POS household wit...|                2000-2400|         0|            Cash loans|              M|               N|                  Y|               0|        21865.5|           513000.0|      Unaccompanied|             Working|   Secondary / secon...|  Single / not married|    House / apartment|                      0.028663|               4311.0|               3458|         Core staff|                1.0|                       2|                              2|                      THURSDAY|                         11|                             0|                             0|                              0|                         0|                         1|                          1|             Religion|                         0.0|                         0.0|                         0.0|                         0.0|                   -1106.0|                  0|                           0.0|                          0.0|                           0.0|                          0.0|                          0.0|                           0.0|                 1.0|                 5.0|     50 above|               5-10|\n",
      "|          Consumer loans|          3601.53|              31005.0|         30663.0|              31005.0|                         XAP|                  Approved|   Cash through the ...|                     XAP|              Repeater|              Audio/Video|                 POS|                    XNA|        Country-wide|                    53|              Connectivity|             12.0|                  high|     POS mobile with i...|                1600-2000|         0|            Cash loans|              M|               N|                  Y|               0|        21865.5|           513000.0|      Unaccompanied|             Working|   Secondary / secon...|  Single / not married|    House / apartment|                      0.028663|               4311.0|               3458|         Core staff|                1.0|                       2|                              2|                      THURSDAY|                         11|                             0|                             0|                              0|                         0|                         1|                          1|             Religion|                         0.0|                         0.0|                         0.0|                         0.0|                   -1106.0|                  0|                           0.0|                          0.0|                           0.0|                          0.0|                          0.0|                           0.0|                 1.0|                 5.0|     50 above|               5-10|\n",
      "|              Cash loans|        22678.785|             202500.0|        215865.0|             202500.0|                         XNA|                  Approved|                    XNA|                     XAP|              Repeater|                      XNA|                Cash|                 x-sell|        Country-wide|                    -1|      Consumer electronics|             12.0|                middle|      Cash X-Sell: middle|                 800-1200|         0|            Cash loans|              M|               N|                  Y|               0|        21865.5|           513000.0|      Unaccompanied|             Working|   Secondary / secon...|  Single / not married|    House / apartment|                      0.028663|               4311.0|               3458|         Core staff|                1.0|                       2|                              2|                      THURSDAY|                         11|                             0|                             0|                              0|                         0|                         1|                          1|             Religion|                         0.0|                         0.0|                         0.0|                         0.0|                   -1106.0|                  0|                           0.0|                          0.0|                           0.0|                          0.0|                          0.0|                           0.0|                 1.0|                 5.0|     50 above|               5-10|\n",
      "|          Consumer loans|        17885.835|             162598.5|        162598.5|             162598.5|                         XAP|                  Approved|   Cash through the ...|                     XAP|              Repeater|     Consumer Electronics|                 POS|                    XNA|        Country-wide|                   110|      Consumer electronics|             10.0|            low_normal|     POS household wit...|                    0-400|         0|            Cash loans|              M|               N|                  Y|               0|        27517.5|           454500.0|    Spouse, partner|       State servant|   Secondary / secon...|               Married|    House / apartment|          0.035792000000000004|               4970.0|                477|           Laborers|                2.0|                       2|                              2|                     WEDNESDAY|                         16|                             0|                             0|                              0|                         0|                         0|                          0|                Other|                         0.0|                         0.0|                         0.0|                         0.0|                   -2536.0|                  1|                           0.0|                          0.0|                           0.0|                          0.0|                          1.0|                           1.0|                 0.0|                 4.0|        40-50|                0-5|\n",
      "|              Cash loans|          11250.0|                  0.0|             0.0|            6905160.0|                         XNA|                  Canceled|                    XNA|                     XAP|              Repeater|                      XNA|                 XNA|                    XNA|Credit and cash o...|                    -1|                       XNA|              0.0|                   XNA|                     Cash|                    0-400|         0|            Cash loans|              M|               N|                  Y|               0|        27517.5|           454500.0|    Spouse, partner|       State servant|   Secondary / secon...|               Married|    House / apartment|          0.035792000000000004|               4970.0|                477|           Laborers|                2.0|                       2|                              2|                     WEDNESDAY|                         16|                             0|                             0|                              0|                         0|                         0|                          0|                Other|                         0.0|                         0.0|                         0.0|                         0.0|                   -2536.0|                  1|                           0.0|                          0.0|                           0.0|                          0.0|                          1.0|                           1.0|                 0.0|                 4.0|        40-50|                0-5|\n",
      "|          Consumer loans|          8019.09|              44455.5|         39955.5|              44455.5|                         XAP|                  Approved|   Cash through the ...|                     XAP|                   New|                   Mobile|                 POS|                    XNA|        Country-wide|                    50|              Connectivity|              6.0|            low_normal|     POS mobile with i...|                2400-2800|         0|            Cash loans|              M|               N|                  Y|               0|        27517.5|           454500.0|    Spouse, partner|       State servant|   Secondary / secon...|               Married|    House / apartment|          0.035792000000000004|               4970.0|                477|           Laborers|                2.0|                       2|                              2|                     WEDNESDAY|                         16|                             0|                             0|                              0|                         0|                         0|                          0|                Other|                         0.0|                         0.0|                         0.0|                         0.0|                   -2536.0|                  1|                           0.0|                          0.0|                           0.0|                          0.0|                          1.0|                           1.0|                 0.0|                 4.0|        40-50|                0-5|\n",
      "|              Cash loans|        25309.575|             450000.0|        501975.0|             450000.0|                         XNA|                  Approved|   Cash through the ...|                     XAP|             Refreshed|                      XNA|                Cash|                 x-sell|        Country-wide|                   110|      Consumer electronics|             30.0|                middle|      Cash X-Sell: middle|                  400-800|         0|            Cash loans|              M|               N|                  Y|               0|        27517.5|           454500.0|    Spouse, partner|       State servant|   Secondary / secon...|               Married|    House / apartment|          0.035792000000000004|               4970.0|                477|           Laborers|                2.0|                       2|                              2|                     WEDNESDAY|                         16|                             0|                             0|                              0|                         0|                         0|                          0|                Other|                         0.0|                         0.0|                         0.0|                         0.0|                   -2536.0|                  1|                           0.0|                          0.0|                           0.0|                          0.0|                          1.0|                           1.0|                 0.0|                 4.0|        40-50|                0-5|\n",
      "|          Consumer loans|        12144.285|             121455.0|        109309.5|             121455.0|                         XAP|                  Approved|   Cash through the ...|                     XAP|              Repeater|                Gardening|                 POS|                    XNA|    Regional / Local|                    96|      Consumer electronics|             10.0|            low_normal|     POS household wit...|                2000-2400|         0|            Cash loans|              M|               N|                  Y|               0|        27517.5|           454500.0|    Spouse, partner|       State servant|   Secondary / secon...|               Married|    House / apartment|          0.035792000000000004|               4970.0|                477|           Laborers|                2.0|                       2|                              2|                     WEDNESDAY|                         16|                             0|                             0|                              0|                         0|                         0|                          0|                Other|                         0.0|                         0.0|                         0.0|                         0.0|                   -2536.0|                  1|                           0.0|                          0.0|                           0.0|                          0.0|                          1.0|                           1.0|                 0.0|                 4.0|        40-50|                0-5|\n",
      "|          Consumer loans|         6725.205|              47115.0|         42403.5|              47115.0|                         XAP|                  Approved|   Cash through the ...|                     XAP|              Repeater|     Consumer Electronics|                 POS|                    XNA|               Stone|                   200|      Consumer electronics|              8.0|                  high|     POS household wit...|                2000-2400|         0|            Cash loans|              F|               N|                  Y|               0|         5881.5|            67500.0|      Unaccompanied|             Working|   Secondary / secon...|               Married|    House / apartment|                      0.031329|                311.0|               3227|           Laborers|                2.0|                       2|                              2|                        FRIDAY|                         10|                             0|                             0|                              0|                         0|                         0|                          0| Business Entity T...|                         0.0|                         0.0|                         0.0|                         0.0|                   -2370.0|                  1|                           0.0|                          0.0|                           0.0|                          1.0|                          0.0|                           0.0|                 0.0|                 0.0|        30-40|               5-10|\n",
      "|          Consumer loans|         14480.46|             290250.0|        232200.0|             290250.0|                         XAP|                  Approved|   Cash through the ...|                     XAP|              Repeater|     Clothing and Acce...|                 POS|                    XNA|               Stone|                   150|                  Clothing|             24.0|                middle|     POS industry with...|                 800-1200|         0|            Cash loans|              F|               N|                  Y|               0|         5881.5|            67500.0|      Unaccompanied|             Working|   Secondary / secon...|               Married|    House / apartment|                      0.031329|                311.0|               3227|           Laborers|                2.0|                       2|                              2|                        FRIDAY|                         10|                             0|                             0|                              0|                         0|                         0|                          0| Business Entity T...|                         0.0|                         0.0|                         0.0|                         0.0|                   -2370.0|                  1|                           0.0|                          0.0|                           0.0|                          1.0|                          0.0|                           0.0|                 0.0|                 0.0|        30-40|               5-10|\n",
      "|          Consumer loans|         6042.915|              47115.0|         51781.5|              47115.0|                         XAP|                  Approved|   Cash through the ...|                     XAP|              Repeater|     Consumer Electronics|                 POS|                    XNA|               Stone|                   200|      Consumer electronics|             12.0|                  high|     POS household wit...|                2000-2400|         0|            Cash loans|              F|               N|                  Y|               0|         5881.5|            67500.0|      Unaccompanied|             Working|   Secondary / secon...|               Married|    House / apartment|                      0.031329|                311.0|               3227|           Laborers|                2.0|                       2|                              2|                        FRIDAY|                         10|                             0|                             0|                              0|                         0|                         0|                          0| Business Entity T...|                         0.0|                         0.0|                         0.0|                         0.0|                   -2370.0|                  1|                           0.0|                          0.0|                           0.0|                          1.0|                          0.0|                           0.0|                 0.0|                 0.0|        30-40|               5-10|\n",
      "|          Consumer loans|          7124.04|              98500.5|         98500.5|              98500.5|                         XAP|                  Approved|   Cash through the ...|                     XAP|              Repeater|                Computers|                 POS|                    XNA|    Regional / Local|                   120|      Consumer electronics|             24.0|                  high|     POS household wit...|                1200-1600|         0|            Cash loans|              F|               N|                  Y|               0|         5881.5|            67500.0|      Unaccompanied|             Working|   Secondary / secon...|               Married|    House / apartment|                      0.031329|                311.0|               3227|           Laborers|                2.0|                       2|                              2|                        FRIDAY|                         10|                             0|                             0|                              0|                         0|                         0|                          0| Business Entity T...|                         0.0|                         0.0|                         0.0|                         0.0|                   -2370.0|                  1|                           0.0|                          0.0|                           0.0|                          1.0|                          0.0|                           0.0|                 0.0|                 0.0|        30-40|               5-10|\n",
      "|          Consumer loans|          8779.77|              45900.0|         48325.5|              45900.0|                         XAP|                  Approved|                    XNA|                     XAP|                   New|     Consumer Electronics|                 POS|                    XNA|               Stone|                    50|      Consumer electronics|              6.0|                middle|     POS household wit...|                  400-800|         0|            Cash loans|              M|               N|                  N|               0|        26149.5|           387000.0|      Unaccompanied|             Working|   Secondary / secon...|               Married|    House / apartment|                      0.018634|               6392.0|               3866|            Drivers|                2.0|                       2|                              2|                      THURSDAY|                         12|                             0|                             0|                              0|                         1|                         1|                          0|           Government|                         0.0|                         0.0|                         0.0|                         0.0|                      -3.0|                  1|                           0.0|                          0.0|                           0.0|                          0.0|                          1.0|                           0.0|                 1.0|                 5.0|        30-40|                0-5|\n",
      "|          Consumer loans|         5729.265|              32512.5|         35086.5|              32512.5|                         XAP|                  Approved|   Cash through the ...|                     XAP|              Repeater|                Gardening|                 POS|                    XNA|               Stone|                   550|      Consumer electronics|              8.0|                  high|     POS household wit...|                    0-400|         0|            Cash loans|              M|               N|                  N|               0|        26149.5|           387000.0|      Unaccompanied|             Working|   Secondary / secon...|               Married|    House / apartment|                      0.018634|               6392.0|               3866|            Drivers|                2.0|                       2|                              2|                      THURSDAY|                         12|                             0|                             0|                              0|                         1|                         1|                          0|           Government|                         0.0|                         0.0|                         0.0|                         0.0|                      -3.0|                  1|                           0.0|                          0.0|                           0.0|                          0.0|                          1.0|                           0.0|                 1.0|                 5.0|        30-40|                0-5|\n",
      "+------------------------+-----------------+---------------------+----------------+---------------------+----------------------------+--------------------------+-----------------------+------------------------+----------------------+-------------------------+--------------------+-----------------------+--------------------+----------------------+--------------------------+-----------------+----------------------+-------------------------+-------------------------+----------+----------------------+---------------+----------------+-------------------+----------------+---------------+-------------------+-------------------+--------------------+-----------------------+----------------------+---------------------+------------------------------+---------------------+-------------------+-------------------+-------------------+------------------------+-------------------------------+------------------------------+---------------------------+------------------------------+------------------------------+-------------------------------+--------------------------+--------------------------+---------------------------+---------------------+----------------------------+----------------------------+----------------------------+----------------------------+--------------------------+-------------------+------------------------------+-----------------------------+------------------------------+-----------------------------+-----------------------------+------------------------------+--------------------+--------------------+-------------+-------------------+\n",
      "only showing top 20 rows\n",
      "\n"
     ]
    }
   ],
   "source": [
    "loan_process_df.show()"
   ]
  },
  {
   "cell_type": "code",
   "execution_count": null,
   "metadata": {
    "application/vnd.databricks.v1+cell": {
     "cellMetadata": {
      "byteLimit": 2048000,
      "rowLimit": 10000
     },
     "inputWidgets": {},
     "nuid": "072ca54d-41f9-4714-a7f9-8b561648bf8c",
     "showTitle": false,
     "title": ""
    }
   },
   "outputs": [
    {
     "name": "stdout",
     "output_type": "stream",
     "text": [
      "root\n",
      " |-- NAME_CONTRACT_TYPE_prevd: string (nullable = true)\n",
      " |-- AMT_ANNUITY_prevd: double (nullable = true)\n",
      " |-- AMT_APPLICATION_prevd: double (nullable = true)\n",
      " |-- AMT_CREDIT_prevd: double (nullable = true)\n",
      " |-- AMT_GOODS_PRICE_prevd: double (nullable = true)\n",
      " |-- NAME_CASH_LOAN_PURPOSE_prevd: string (nullable = true)\n",
      " |-- NAME_CONTRACT_STATUS_prevd: string (nullable = true)\n",
      " |-- NAME_PAYMENT_TYPE_prevd: string (nullable = true)\n",
      " |-- CODE_REJECT_REASON_prevd: string (nullable = true)\n",
      " |-- NAME_CLIENT_TYPE_prevd: string (nullable = true)\n",
      " |-- NAME_GOODS_CATEGORY_prevd: string (nullable = true)\n",
      " |-- NAME_PORTFOLIO_prevd: string (nullable = true)\n",
      " |-- NAME_PRODUCT_TYPE_prevd: string (nullable = true)\n",
      " |-- CHANNEL_TYPE_prevd: string (nullable = true)\n",
      " |-- SELLERPLACE_AREA_prevd: integer (nullable = true)\n",
      " |-- NAME_SELLER_INDUSTRY_prevd: string (nullable = true)\n",
      " |-- CNT_PAYMENT_prevd: double (nullable = true)\n",
      " |-- NAME_YIELD_GROUP_prevd: string (nullable = true)\n",
      " |-- PRODUCT_COMBINATION_prevd: string (nullable = true)\n",
      " |-- DAYS_DECISION_GROUP_prevd: string (nullable = true)\n",
      " |-- TARGET_apd: integer (nullable = true)\n",
      " |-- NAME_CONTRACT_TYPE_apd: string (nullable = true)\n",
      " |-- CODE_GENDER_apd: string (nullable = true)\n",
      " |-- FLAG_OWN_CAR_apd: string (nullable = true)\n",
      " |-- FLAG_OWN_REALTY_apd: string (nullable = true)\n",
      " |-- CNT_CHILDREN_apd: integer (nullable = true)\n",
      " |-- AMT_ANNUITY_apd: double (nullable = true)\n",
      " |-- AMT_GOODS_PRICE_apd: double (nullable = true)\n",
      " |-- NAME_TYPE_SUITE_apd: string (nullable = true)\n",
      " |-- NAME_INCOME_TYPE_apd: string (nullable = true)\n",
      " |-- NAME_EDUCATION_TYPE_apd: string (nullable = true)\n",
      " |-- NAME_FAMILY_STATUS_apd: string (nullable = true)\n",
      " |-- NAME_HOUSING_TYPE_apd: string (nullable = true)\n",
      " |-- REGION_POPULATION_RELATIVE_apd: double (nullable = true)\n",
      " |-- DAYS_REGISTRATION_apd: double (nullable = true)\n",
      " |-- DAYS_ID_PUBLISH_apd: integer (nullable = true)\n",
      " |-- OCCUPATION_TYPE_apd: string (nullable = true)\n",
      " |-- CNT_FAM_MEMBERS_apd: double (nullable = true)\n",
      " |-- REGION_RATING_CLIENT_apd: integer (nullable = true)\n",
      " |-- REGION_RATING_CLIENT_W_CITY_apd: integer (nullable = true)\n",
      " |-- WEEKDAY_APPR_PROCESS_START_apd: string (nullable = true)\n",
      " |-- HOUR_APPR_PROCESS_START_apd: integer (nullable = true)\n",
      " |-- REG_REGION_NOT_LIVE_REGION_apd: integer (nullable = true)\n",
      " |-- REG_REGION_NOT_WORK_REGION_apd: integer (nullable = true)\n",
      " |-- LIVE_REGION_NOT_WORK_REGION_apd: integer (nullable = true)\n",
      " |-- REG_CITY_NOT_LIVE_CITY_apd: integer (nullable = true)\n",
      " |-- REG_CITY_NOT_WORK_CITY_apd: integer (nullable = true)\n",
      " |-- LIVE_CITY_NOT_WORK_CITY_apd: integer (nullable = true)\n",
      " |-- ORGANIZATION_TYPE_apd: string (nullable = true)\n",
      " |-- OBS_30_CNT_SOCIAL_CIRCLE_apd: double (nullable = true)\n",
      " |-- DEF_30_CNT_SOCIAL_CIRCLE_apd: double (nullable = true)\n",
      " |-- OBS_60_CNT_SOCIAL_CIRCLE_apd: double (nullable = true)\n",
      " |-- DEF_60_CNT_SOCIAL_CIRCLE_apd: double (nullable = true)\n",
      " |-- DAYS_LAST_PHONE_CHANGE_apd: double (nullable = true)\n",
      " |-- FLAG_DOCUMENT_3_apd: integer (nullable = true)\n",
      " |-- AMT_REQ_CREDIT_BUREAU_HOUR_apd: double (nullable = true)\n",
      " |-- AMT_REQ_CREDIT_BUREAU_DAY_apd: double (nullable = true)\n",
      " |-- AMT_REQ_CREDIT_BUREAU_WEEK_apd: double (nullable = true)\n",
      " |-- AMT_REQ_CREDIT_BUREAU_MON_apd: double (nullable = true)\n",
      " |-- AMT_REQ_CREDIT_BUREAU_QRT_apd: double (nullable = true)\n",
      " |-- AMT_REQ_CREDIT_BUREAU_YEAR_apd: double (nullable = true)\n",
      " |-- AMT_INCOME_RANGE_apd: double (nullable = true)\n",
      " |-- AMT_CREDIT_RANGE_apd: double (nullable = true)\n",
      " |-- AGE_GROUP_apd: string (nullable = true)\n",
      " |-- EMPLOYMENT_YEAR_apd: string (nullable = true)\n",
      "\n"
     ]
    }
   ],
   "source": [
    "loan_process_df.printSchema()"
   ]
  },
  {
   "cell_type": "code",
   "execution_count": null,
   "metadata": {
    "application/vnd.databricks.v1+cell": {
     "cellMetadata": {
      "byteLimit": 2048000,
      "rowLimit": 10000
     },
     "inputWidgets": {},
     "nuid": "ff92d0b0-6cff-46a5-b324-29a0ca02dc79",
     "showTitle": false,
     "title": ""
    }
   },
   "outputs": [],
   "source": [
    "# Select categorical columns\n",
    "cat_cols = [col_name for col_name, col_type in loan_process_df.dtypes if col_type == \"string\"]"
   ]
  },
  {
   "cell_type": "code",
   "execution_count": null,
   "metadata": {
    "application/vnd.databricks.v1+cell": {
     "cellMetadata": {
      "byteLimit": 2048000,
      "rowLimit": 10000
     },
     "inputWidgets": {},
     "nuid": "973a702d-307c-4378-ac89-a4f1aea31d5f",
     "showTitle": false,
     "title": ""
    }
   },
   "outputs": [
    {
     "data": {
      "text/plain": [
       "['NAME_CONTRACT_TYPE_prevd',\n",
       " 'NAME_CASH_LOAN_PURPOSE_prevd',\n",
       " 'NAME_CONTRACT_STATUS_prevd',\n",
       " 'NAME_PAYMENT_TYPE_prevd',\n",
       " 'CODE_REJECT_REASON_prevd',\n",
       " 'NAME_CLIENT_TYPE_prevd',\n",
       " 'NAME_GOODS_CATEGORY_prevd',\n",
       " 'NAME_PORTFOLIO_prevd',\n",
       " 'NAME_PRODUCT_TYPE_prevd',\n",
       " 'CHANNEL_TYPE_prevd',\n",
       " 'NAME_SELLER_INDUSTRY_prevd',\n",
       " 'NAME_YIELD_GROUP_prevd',\n",
       " 'PRODUCT_COMBINATION_prevd',\n",
       " 'DAYS_DECISION_GROUP_prevd',\n",
       " 'NAME_CONTRACT_TYPE_apd',\n",
       " 'CODE_GENDER_apd',\n",
       " 'FLAG_OWN_CAR_apd',\n",
       " 'FLAG_OWN_REALTY_apd',\n",
       " 'NAME_TYPE_SUITE_apd',\n",
       " 'NAME_INCOME_TYPE_apd',\n",
       " 'NAME_EDUCATION_TYPE_apd',\n",
       " 'NAME_FAMILY_STATUS_apd',\n",
       " 'NAME_HOUSING_TYPE_apd',\n",
       " 'OCCUPATION_TYPE_apd',\n",
       " 'WEEKDAY_APPR_PROCESS_START_apd',\n",
       " 'ORGANIZATION_TYPE_apd',\n",
       " 'AGE_GROUP_apd',\n",
       " 'EMPLOYMENT_YEAR_apd']"
      ]
     },
     "execution_count": 16,
     "metadata": {},
     "output_type": "execute_result"
    }
   ],
   "source": [
    "cat_cols"
   ]
  },
  {
   "cell_type": "code",
   "execution_count": null,
   "metadata": {
    "application/vnd.databricks.v1+cell": {
     "cellMetadata": {
      "byteLimit": 2048000,
      "rowLimit": 10000
     },
     "inputWidgets": {},
     "nuid": "c25751b3-4f63-47e1-ac03-21193eff635f",
     "showTitle": false,
     "title": ""
    }
   },
   "outputs": [],
   "source": [
    "# Create StringIndexer and OneHotEncoder stages for categorical columns\n",
    "indexers = [StringIndexer(inputCol=col, outputCol=col + \"_index\") for col in cat_cols]\n",
    "encoders = [OneHotEncoder(inputCol=col + \"_index\", outputCol=col + \"_encoded\") for col in cat_cols]"
   ]
  },
  {
   "cell_type": "code",
   "execution_count": null,
   "metadata": {
    "application/vnd.databricks.v1+cell": {
     "cellMetadata": {
      "byteLimit": 2048000,
      "rowLimit": 10000
     },
     "inputWidgets": {},
     "nuid": "e518773d-7cc3-42a0-bf53-f6c1b060a20b",
     "showTitle": false,
     "title": ""
    }
   },
   "outputs": [],
   "source": [
    "# Combine indexers and encoders into a single list of stages\n",
    "stages = indexers + encoders"
   ]
  },
  {
   "cell_type": "code",
   "execution_count": null,
   "metadata": {
    "application/vnd.databricks.v1+cell": {
     "cellMetadata": {
      "byteLimit": 2048000,
      "rowLimit": 10000
     },
     "inputWidgets": {},
     "nuid": "8f71ac7b-18f0-4038-82b8-9bb867082549",
     "showTitle": false,
     "title": ""
    }
   },
   "outputs": [],
   "source": [
    "# Create a VectorAssembler to combine features into a single vector column\n",
    "assembler = VectorAssembler(inputCols=[col + \"_encoded\" for col in cat_cols], outputCol=\"features\")"
   ]
  },
  {
   "cell_type": "code",
   "execution_count": null,
   "metadata": {
    "application/vnd.databricks.v1+cell": {
     "cellMetadata": {
      "byteLimit": 2048000,
      "rowLimit": 10000
     },
     "inputWidgets": {},
     "nuid": "90351b14-8e5d-4510-9321-c2ebdeb3677e",
     "showTitle": false,
     "title": ""
    }
   },
   "outputs": [],
   "source": [
    "# Combine all stages into a single pipeline\n",
    "stages += [assembler]\n",
    "pipeline = Pipeline(stages=stages)"
   ]
  },
  {
   "cell_type": "code",
   "execution_count": null,
   "metadata": {
    "application/vnd.databricks.v1+cell": {
     "cellMetadata": {
      "byteLimit": 2048000,
      "rowLimit": 10000
     },
     "inputWidgets": {},
     "nuid": "5c650f9e-864c-41bf-9fef-f809708d7c91",
     "showTitle": false,
     "title": ""
    }
   },
   "outputs": [],
   "source": [
    "# Fit the pipeline to the data\n",
    "pipeline_model = pipeline.fit(loan_process_df)\n",
    "transformed_df = pipeline_model.transform(loan_process_df)"
   ]
  },
  {
   "cell_type": "code",
   "execution_count": null,
   "metadata": {
    "application/vnd.databricks.v1+cell": {
     "cellMetadata": {
      "byteLimit": 2048000,
      "rowLimit": 10000
     },
     "inputWidgets": {},
     "nuid": "d58f5284-ebd2-4c75-a38f-5e79784ff290",
     "showTitle": false,
     "title": ""
    }
   },
   "outputs": [],
   "source": [
    "# Select features and target column\n",
    "selected_cols = [\"features\", \"TARGET_apd\"]\n",
    "selected_df = transformed_df.select(*selected_cols)"
   ]
  },
  {
   "cell_type": "code",
   "execution_count": null,
   "metadata": {
    "application/vnd.databricks.v1+cell": {
     "cellMetadata": {
      "byteLimit": 2048000,
      "rowLimit": 10000
     },
     "inputWidgets": {},
     "nuid": "f21a7945-7db6-4bcd-b96f-4f1c4ae08b5b",
     "showTitle": false,
     "title": ""
    }
   },
   "outputs": [],
   "source": [
    "# Split the data into training and test sets\n",
    "train_df, test_df = selected_df.randomSplit([0.80, 0.20], seed=42)"
   ]
  },
  {
   "cell_type": "code",
   "execution_count": null,
   "metadata": {
    "application/vnd.databricks.v1+cell": {
     "cellMetadata": {
      "byteLimit": 2048000,
      "rowLimit": 10000
     },
     "inputWidgets": {},
     "nuid": "ba96f862-237f-4b0e-aee9-3a56cbf10430",
     "showTitle": false,
     "title": ""
    }
   },
   "outputs": [
    {
     "data": {
      "text/plain": [
       "DataFrame[features: vector, TARGET_apd: int]"
      ]
     },
     "execution_count": 24,
     "metadata": {},
     "output_type": "execute_result"
    }
   ],
   "source": [
    "train_df"
   ]
  },
  {
   "cell_type": "code",
   "execution_count": null,
   "metadata": {
    "application/vnd.databricks.v1+cell": {
     "cellMetadata": {
      "byteLimit": 2048000,
      "rowLimit": 10000
     },
     "inputWidgets": {},
     "nuid": "a69a81ef-53af-4047-a975-26dd23cdc863",
     "showTitle": false,
     "title": ""
    }
   },
   "outputs": [],
   "source": [
    "# Train RandomForestClassifier\n",
    "rf= RandomForestClassifier(featuresCol=\"features\", labelCol=\"TARGET_apd\", numTrees=100)\n",
    "rf_model = rf.fit(train_df)"
   ]
  },
  {
   "cell_type": "code",
   "execution_count": null,
   "metadata": {
    "application/vnd.databricks.v1+cell": {
     "cellMetadata": {
      "byteLimit": 2048000,
      "rowLimit": 10000
     },
     "inputWidgets": {},
     "nuid": "24613a93-aa6e-4ce3-80b9-7dc2008011d6",
     "showTitle": false,
     "title": ""
    }
   },
   "outputs": [],
   "source": [
    "# Make predictions on the test data\n",
    "rf_pred = rf_model.transform(test_df)"
   ]
  },
  {
   "cell_type": "code",
   "execution_count": null,
   "metadata": {
    "application/vnd.databricks.v1+cell": {
     "cellMetadata": {
      "byteLimit": 2048000,
      "rowLimit": 10000
     },
     "inputWidgets": {},
     "nuid": "734c4eb1-39be-43f9-8c0f-71fbd4f87ae3",
     "showTitle": false,
     "title": ""
    }
   },
   "outputs": [],
   "source": [
    "# Evaluate the RandomForestClassifier\n",
    "evaluator = BinaryClassificationEvaluator(rawPredictionCol=\"rawPrediction\", labelCol=\"TARGET_apd\")\n",
    "rf_auc = evaluator.evaluate(rf_pred)"
   ]
  },
  {
   "cell_type": "code",
   "execution_count": null,
   "metadata": {
    "application/vnd.databricks.v1+cell": {
     "cellMetadata": {
      "byteLimit": 2048000,
      "rowLimit": 10000
     },
     "inputWidgets": {},
     "nuid": "4dedbebb-a452-4615-bccb-ba830c940d09",
     "showTitle": false,
     "title": ""
    }
   },
   "outputs": [
    {
     "name": "stdout",
     "output_type": "stream",
     "text": [
      "Accuracy: 0.9129844899292866\n",
      "Recall: 0.9129844899292866\n",
      "Precision: 0.8335406788514397\n"
     ]
    }
   ],
   "source": [
    "from pyspark.ml.evaluation import MulticlassClassificationEvaluator\n",
    "from pyspark.mllib.evaluation import MulticlassMetrics\n",
    "# Calculate accuracy using MulticlassClassificationEvaluator\n",
    "evaluator = MulticlassClassificationEvaluator(predictionCol=\"prediction\", labelCol=\"TARGET_apd\", metricName=\"accuracy\")\n",
    "accuracy = evaluator.evaluate(rf_pred)\n",
    "\n",
    "# Calculate recall using MulticlassClassificationEvaluator\n",
    "evaluator = MulticlassClassificationEvaluator(predictionCol=\"prediction\", labelCol=\"TARGET_apd\", metricName=\"weightedRecall\")\n",
    "recall = evaluator.evaluate(rf_pred)\n",
    "\n",
    "# Calculate precision using MulticlassClassificationEvaluator\n",
    "evaluator = MulticlassClassificationEvaluator(predictionCol=\"prediction\", labelCol=\"TARGET_apd\", metricName=\"weightedPrecision\")\n",
    "precision = evaluator.evaluate(rf_pred)\n",
    "\n",
    "\n",
    "# Print the evaluation metrics\n",
    "print(f\"Accuracy: {accuracy}\")\n",
    "print(f\"Recall: {recall}\")\n",
    "print(f\"Precision: {precision}\")"
   ]
  },
  {
   "cell_type": "code",
   "execution_count": null,
   "metadata": {
    "application/vnd.databricks.v1+cell": {
     "cellMetadata": {
      "byteLimit": 2048000,
      "rowLimit": 10000
     },
     "inputWidgets": {},
     "nuid": "adc7e22e-46a2-46fa-a5fc-2985c7dc9e7f",
     "showTitle": false,
     "title": ""
    }
   },
   "outputs": [
    {
     "data": {
      "text/plain": [
       "0.6261960022518456"
      ]
     },
     "execution_count": 29,
     "metadata": {},
     "output_type": "execute_result"
    }
   ],
   "source": [
    "rf_auc"
   ]
  },
  {
   "cell_type": "code",
   "execution_count": null,
   "metadata": {
    "application/vnd.databricks.v1+cell": {
     "cellMetadata": {
      "byteLimit": 2048000,
      "rowLimit": 10000
     },
     "inputWidgets": {},
     "nuid": "3230330e-b005-4270-a333-dd420d30d5f3",
     "showTitle": false,
     "title": ""
    }
   },
   "outputs": [],
   "source": [
    "# Train LogisticRegression\n",
    "lr = LogisticRegression(featuresCol=\"features\", labelCol=\"TARGET_apd\")\n",
    "lr_model = lr.fit(train_df)"
   ]
  },
  {
   "cell_type": "code",
   "execution_count": null,
   "metadata": {
    "application/vnd.databricks.v1+cell": {
     "cellMetadata": {
      "byteLimit": 2048000,
      "rowLimit": 10000
     },
     "inputWidgets": {},
     "nuid": "dc792b7f-a0c9-4ed2-8a97-514aeb89a96e",
     "showTitle": false,
     "title": ""
    }
   },
   "outputs": [],
   "source": [
    "# Make predictions on the test data\n",
    "lr_predictions = lr_model.transform(test_df)"
   ]
  },
  {
   "cell_type": "code",
   "execution_count": null,
   "metadata": {
    "application/vnd.databricks.v1+cell": {
     "cellMetadata": {
      "byteLimit": 2048000,
      "rowLimit": 10000
     },
     "inputWidgets": {},
     "nuid": "4891ce25-8159-4138-abac-3b402d6db841",
     "showTitle": false,
     "title": ""
    }
   },
   "outputs": [],
   "source": [
    "# Evaluate the LogisticRegression\n",
    "evaluator = BinaryClassificationEvaluator(rawPredictionCol=\"rawPrediction\", labelCol=\"TARGET_apd\")\n",
    "lr_auc = evaluator.evaluate(lr_predictions)"
   ]
  },
  {
   "cell_type": "code",
   "execution_count": null,
   "metadata": {
    "application/vnd.databricks.v1+cell": {
     "cellMetadata": {
      "byteLimit": 2048000,
      "rowLimit": 10000
     },
     "inputWidgets": {},
     "nuid": "d8914664-947f-403a-9a7c-912f2c4ca54d",
     "showTitle": false,
     "title": ""
    }
   },
   "outputs": [
    {
     "name": "stdout",
     "output_type": "stream",
     "text": [
      "Accuracy: 0.9129986965431757\n",
      "Recall: 0.9129986965431757\n",
      "Precision: 0.8843383543835006\n"
     ]
    }
   ],
   "source": [
    "from pyspark.ml.evaluation import MulticlassClassificationEvaluator\n",
    "from pyspark.mllib.evaluation import MulticlassMetrics\n",
    "# Calculate accuracy using MulticlassClassificationEvaluator\n",
    "evaluator = MulticlassClassificationEvaluator(predictionCol=\"prediction\", labelCol=\"TARGET_apd\", metricName=\"accuracy\")\n",
    "accuracy = evaluator.evaluate(lr_predictions)\n",
    "\n",
    "# Calculate recall using MulticlassClassificationEvaluator\n",
    "evaluator = MulticlassClassificationEvaluator(predictionCol=\"prediction\", labelCol=\"TARGET_apd\", metricName=\"weightedRecall\")\n",
    "recall = evaluator.evaluate(lr_predictions)\n",
    "\n",
    "# Calculate precision using MulticlassClassificationEvaluator\n",
    "evaluator = MulticlassClassificationEvaluator(predictionCol=\"prediction\", labelCol=\"TARGET_apd\", metricName=\"weightedPrecision\")\n",
    "precision = evaluator.evaluate(lr_predictions)\n",
    "\n",
    "\n",
    "# Print the evaluation metrics\n",
    "print(f\"Accuracy: {accuracy}\")\n",
    "print(f\"Recall: {recall}\")\n",
    "print(f\"Precision: {precision}\")\n"
   ]
  },
  {
   "cell_type": "code",
   "execution_count": null,
   "metadata": {
    "application/vnd.databricks.v1+cell": {
     "cellMetadata": {
      "byteLimit": 2048000,
      "rowLimit": 10000
     },
     "inputWidgets": {},
     "nuid": "6abdd13c-5e40-429a-a1ef-1dc6c624556e",
     "showTitle": false,
     "title": ""
    }
   },
   "outputs": [
    {
     "data": {
      "text/plain": [
       "0.6562738114358088"
      ]
     },
     "execution_count": 34,
     "metadata": {},
     "output_type": "execute_result"
    }
   ],
   "source": [
    "lr_auc"
   ]
  },
  {
   "cell_type": "code",
   "execution_count": null,
   "metadata": {
    "application/vnd.databricks.v1+cell": {
     "cellMetadata": {
      "byteLimit": 2048000,
      "rowLimit": 10000
     },
     "inputWidgets": {},
     "nuid": "973dc295-62ea-41d9-9f43-b15066140671",
     "showTitle": false,
     "title": ""
    }
   },
   "outputs": [
    {
     "name": "stdout",
     "output_type": "stream",
     "text": [
      "Accuracy = 91.30%\n",
      "Test Error = 8.70%\n"
     ]
    }
   ],
   "source": [
    "# Assuming you have a DataFrame containing model predictions, named 'predictions_df'\n",
    "evaluator = MulticlassClassificationEvaluator(predictionCol=\"prediction\", labelCol=\"TARGET_apd\", metricName=\"accuracy\")\n",
    "accuracy = evaluator.evaluate(lr_predictions)\n",
    "\n",
    "print(\"Accuracy = {:.2%}\".format(accuracy))\n",
    "print(\"Test Error = {:.2%}\".format(1.0 - accuracy))"
   ]
  },
  {
   "cell_type": "code",
   "execution_count": null,
   "metadata": {
    "application/vnd.databricks.v1+cell": {
     "cellMetadata": {
      "byteLimit": 2048000,
      "rowLimit": 10000
     },
     "inputWidgets": {},
     "nuid": "e480576b-be34-45ac-aa98-d176fccd2742",
     "showTitle": false,
     "title": ""
    }
   },
   "outputs": [],
   "source": [
    "  # Train DecisionTreeClassifier\n",
    "dt = DecisionTreeClassifier(featuresCol=\"features\", labelCol=\"TARGET_apd\")\n",
    "dt_model = dt.fit(train_df)"
   ]
  },
  {
   "cell_type": "code",
   "execution_count": null,
   "metadata": {
    "application/vnd.databricks.v1+cell": {
     "cellMetadata": {
      "byteLimit": 2048000,
      "rowLimit": 10000
     },
     "inputWidgets": {},
     "nuid": "d558bfbb-ceac-4cbd-b746-4477be83d205",
     "showTitle": false,
     "title": ""
    }
   },
   "outputs": [],
   "source": [
    "# Make predictions on the test data\n",
    "dt_predictions = dt_model.transform(test_df)"
   ]
  },
  {
   "cell_type": "code",
   "execution_count": null,
   "metadata": {
    "application/vnd.databricks.v1+cell": {
     "cellMetadata": {
      "byteLimit": 2048000,
      "rowLimit": 10000
     },
     "inputWidgets": {},
     "nuid": "26725456-d334-4b20-a2e4-9ea3b8606249",
     "showTitle": false,
     "title": ""
    }
   },
   "outputs": [
    {
     "name": "stdout",
     "output_type": "stream",
     "text": [
      "Accuracy: 0.9130057998501202\n",
      "Recall: 0.9130057998501202\n",
      "Precision: 0.9096996917207614\n"
     ]
    }
   ],
   "source": [
    "# Calculate accuracy using MulticlassClassificationEvaluator\n",
    "evaluator = MulticlassClassificationEvaluator(predictionCol=\"prediction\", labelCol=\"TARGET_apd\", metricName=\"accuracy\")\n",
    "accuracy = evaluator.evaluate(dt_predictions)\n",
    "\n",
    "# Calculate recall using MulticlassClassificationEvaluator\n",
    "evaluator = MulticlassClassificationEvaluator(predictionCol=\"prediction\", labelCol=\"TARGET_apd\", metricName=\"weightedRecall\")\n",
    "recall = evaluator.evaluate(dt_predictions)\n",
    "\n",
    "# Calculate precision using MulticlassClassificationEvaluator\n",
    "evaluator = MulticlassClassificationEvaluator(predictionCol=\"prediction\", labelCol=\"TARGET_apd\", metricName=\"weightedPrecision\")\n",
    "precision = evaluator.evaluate(dt_predictions)\n",
    "\n",
    "\n",
    "# Print the evaluation metrics\n",
    "print(f\"Accuracy: {accuracy}\")\n",
    "print(f\"Recall: {recall}\")\n",
    "print(f\"Precision: {precision}\")\n"
   ]
  },
  {
   "cell_type": "code",
   "execution_count": null,
   "metadata": {
    "application/vnd.databricks.v1+cell": {
     "cellMetadata": {
      "byteLimit": 2048000,
      "rowLimit": 10000
     },
     "inputWidgets": {},
     "nuid": "1fd91df5-c642-4738-8e1e-5b0dfb876bec",
     "showTitle": false,
     "title": ""
    }
   },
   "outputs": [
    {
     "name": "stdout",
     "output_type": "stream",
     "text": [
      "Accuracy = 91.30%\n",
      "Test Error = 8.70%\n"
     ]
    }
   ],
   "source": [
    "# Assuming you have a DataFrame containing model predictions, named 'predictions_df'\n",
    "evaluator = MulticlassClassificationEvaluator(predictionCol=\"prediction\", labelCol=\"TARGET_apd\", metricName=\"accuracy\")\n",
    "accuracy = evaluator.evaluate(dt_predictions)\n",
    "\n",
    "print(\"Accuracy = {:.2%}\".format(accuracy))\n",
    "print(\"Test Error = {:.2%}\".format(1.0 - accuracy))"
   ]
  },
  {
   "cell_type": "code",
   "execution_count": null,
   "metadata": {
    "application/vnd.databricks.v1+cell": {
     "cellMetadata": {
      "byteLimit": 2048000,
      "rowLimit": 10000
     },
     "inputWidgets": {},
     "nuid": "1fdc2189-d583-4383-9ab3-9cf8dba36036",
     "showTitle": false,
     "title": ""
    }
   },
   "outputs": [],
   "source": [
    "# Evaluate the LogisticRegression\n",
    "evaluator = BinaryClassificationEvaluator(rawPredictionCol=\"rawPrediction\", labelCol=\"TARGET_apd\")\n",
    "dt_auc = evaluator.evaluate(dt_predictions)"
   ]
  },
  {
   "cell_type": "code",
   "execution_count": null,
   "metadata": {
    "application/vnd.databricks.v1+cell": {
     "cellMetadata": {
      "byteLimit": 2048000,
      "rowLimit": 10000
     },
     "inputWidgets": {},
     "nuid": "5e89cb39-5cab-4c79-9a2e-0ad0b071f6c1",
     "showTitle": false,
     "title": ""
    }
   },
   "outputs": [
    {
     "data": {
      "text/plain": [
       "0.5591824048016929"
      ]
     },
     "execution_count": 41,
     "metadata": {},
     "output_type": "execute_result"
    }
   ],
   "source": [
    "dt_auc"
   ]
  },
  {
   "cell_type": "code",
   "execution_count": null,
   "metadata": {
    "application/vnd.databricks.v1+cell": {
     "cellMetadata": {
      "byteLimit": 2048000,
      "rowLimit": 10000
     },
     "inputWidgets": {},
     "nuid": "5547a451-107f-4d5d-b5c4-21f4a6ab735f",
     "showTitle": false,
     "title": ""
    }
   },
   "outputs": [
    {
     "name": "stdout",
     "output_type": "stream",
     "text": [
      "Accuracy: 0.9129844899292866\n"
     ]
    }
   ],
   "source": [
    "from pyspark.ml.classification import LinearSVC\n",
    "from pyspark.ml.evaluation import MulticlassClassificationEvaluator\n",
    "\n",
    "# Assuming your DataFrame has the correct structure with columns \"TARGET_apd\" and \"features\"\n",
    "lsvc = LinearSVC(featuresCol=\"features\", labelCol=\"TARGET_apd\", maxIter=10, regParam=0.1)\n",
    "model = lsvc.fit(train_df)\n",
    "\n",
    "\n"
   ]
  },
  {
   "cell_type": "code",
   "execution_count": null,
   "metadata": {},
   "outputs": [
    {
     "name": "stdout",
     "output_type": "stream",
     "text": [
      "Accuracy: 0.9129844899292866\n",
      "Recall: 0.9129844899292866\n",
      "Precision: 0.8335406788514397\n"
     ]
    }
   ],
   "source": [
    "svm_pred=model.transform(test_df)\n",
    "evaluator = MulticlassClassificationEvaluator(labelCol=\"TARGET_apd\", metricName=\"accuracy\")\n",
    "accuracy = evaluator.evaluate(svm_pred)\n",
    "# Calculate recall using MulticlassClassificationEvaluator\n",
    "evaluator = MulticlassClassificationEvaluator(predictionCol=\"prediction\", labelCol=\"TARGET_apd\", metricName=\"weightedRecall\")\n",
    "recall = evaluator.evaluate(svm_pred)\n",
    "\n",
    "# Calculate precision using MulticlassClassificationEvaluator\n",
    "evaluator = MulticlassClassificationEvaluator(predictionCol=\"prediction\", labelCol=\"TARGET_apd\", metricName=\"weightedPrecision\")\n",
    "precision = evaluator.evaluate(svm_pred)\n",
    "# Print the evaluation metrics\n",
    "print(f\"Accuracy: {accuracy}\")\n",
    "print(f\"Recall: {recall}\")\n",
    "print(f\"Precision: {precision}\")"
   ]
  },
  {
   "cell_type": "code",
   "execution_count": null,
   "metadata": {},
   "outputs": [
    {
     "data": {
      "text/plain": [
       "0.6147778077787431"
      ]
     },
     "execution_count": 49,
     "metadata": {},
     "output_type": "execute_result"
    }
   ],
   "source": [
    "evaluator = BinaryClassificationEvaluator(rawPredictionCol=\"rawPrediction\", labelCol=\"TARGET_apd\")\n",
    "svm_auc = evaluator.evaluate(svm_pred)\n",
    "svm_auc"
   ]
  },
  {
   "cell_type": "code",
   "execution_count": null,
   "metadata": {
    "application/vnd.databricks.v1+cell": {
     "cellMetadata": {
      "byteLimit": 2048000,
      "rowLimit": 10000
     },
     "inputWidgets": {},
     "nuid": "1f4cb862-0e98-4ee9-837d-1942eaed0a23",
     "showTitle": false,
     "title": ""
    }
   },
   "outputs": [],
   "source": [
    "a = loan_process_df.select('TARGET_apd').groupBy('TARGET_apd').count()"
   ]
  },
  {
   "cell_type": "code",
   "execution_count": null,
   "metadata": {
    "application/vnd.databricks.v1+cell": {
     "cellMetadata": {
      "byteLimit": 2048000,
      "rowLimit": 10000
     },
     "inputWidgets": {},
     "nuid": "1a89c880-fd7f-4548-8c0b-79d3a4e6fc37",
     "showTitle": false,
     "title": ""
    }
   },
   "outputs": [
    {
     "name": "stdout",
     "output_type": "stream",
     "text": [
      "+----------+-------+\n",
      "|TARGET_apd|  count|\n",
      "+----------+-------+\n",
      "|         1| 122025|\n",
      "|         0|1286917|\n",
      "+----------+-------+\n",
      "\n"
     ]
    }
   ],
   "source": [
    "a.show()"
   ]
  }
 ],
 "metadata": {
  "application/vnd.databricks.v1+notebook": {
   "dashboards": [],
   "language": "python",
   "notebookMetadata": {
    "pythonIndentUnit": 4
   },
   "notebookName": "ML Practice",
   "widgets": {}
  },
  "kernelspec": {
   "display_name": "Python 3",
   "language": "python",
   "name": "python3"
  },
  "language_info": {
   "codemirror_mode": {
    "name": "ipython",
    "version": 3
   },
   "file_extension": ".py",
   "mimetype": "text/x-python",
   "name": "python",
   "nbconvert_exporter": "python",
   "pygments_lexer": "ipython3",
   "version": "3.9.13"
  }
 },
 "nbformat": 4,
 "nbformat_minor": 0
}
